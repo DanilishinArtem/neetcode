{
 "cells": [
  {
   "cell_type": "code",
   "execution_count": 2,
   "metadata": {},
   "outputs": [],
   "source": [
    "import torch\n",
    "import time"
   ]
  },
  {
   "cell_type": "code",
   "execution_count": 55,
   "metadata": {},
   "outputs": [],
   "source": [
    "def test_mask(N: int, shape: tuple, device: str = 'cuda'):\n",
    "    start = time.time()    \n",
    "    input = torch.round(torch.randn(*shape))\n",
    "    min_max = torch.tensor([0, 0])\n",
    "    if device == 'cuda':\n",
    "        input = input.cuda()\n",
    "        min_max = min_max.cuda()\n",
    "    for i in range(N):\n",
    "        grad = torch.abs(input)\n",
    "        mask = grad > 0\n",
    "        min_max[0] = torch.min(grad[mask])\n",
    "        min_max[1] = torch.max(grad[mask])\n",
    "    return time.time() - start\n",
    "\n",
    "\n",
    "def test_refactor_mask_filter(N: int, shape: tuple, device: str = 'cuda'):\n",
    "    start = time.time()\n",
    "    input = torch.round(torch.randn(*shape))\n",
    "    min_max = torch.tensor([0, 0]).cuda()\n",
    "    if device == 'cuda':\n",
    "        input = input.cuda()\n",
    "        min_max = min_max.cuda()\n",
    "    for i in range(N):\n",
    "        grad = torch.abs(input)\n",
    "        min_max[1] = torch.max(grad)\n",
    "        grad = torch.where(grad == 0, float('inf'), grad)\n",
    "        min_max[0] = torch.min(grad)\n",
    "    return time.time() - start\n",
    "\n",
    "\n",
    "def test_refactor_mask_filter_mean(N: int, shape: tuple, device: str = 'cuda'):\n",
    "    start = time.time()\n",
    "    input = torch.round(torch.randn(*shape))\n",
    "    min_max = torch.tensor([0, 0]).cuda()\n",
    "    if device == 'cuda':\n",
    "        input = input.cuda()\n",
    "        min_max = min_max.cuda()\n",
    "    for i in range(N):\n",
    "        grad = torch.abs(input)\n",
    "        grad = torch.where(grad == 0, ((grad[0][0] + grad[0][1])/2).item(), grad)\n",
    "        min_max[0], min_max[0] = torch.aminmax(grad)\n",
    "    return time.time() - start\n",
    "\n",
    "\n",
    "def test_refactor_mask_math(N: int, shape: tuple, device: str = 'cuda'):\n",
    "    start = time.time()\n",
    "    input = torch.round(torch.randn(*shape))\n",
    "    min_max = torch.tensor([0, 0]).cuda()\n",
    "    min_denorm = torch.tensor([2 ** -133], dtype=torch.bfloat16)\n",
    "    if device == 'cuda':\n",
    "        input = input.cuda()\n",
    "        min_max = min_max.cuda()\n",
    "        min_denorm = min_denorm.cuda()\n",
    "    for i in range(N):\n",
    "        grad = torch.abs(input)\n",
    "        min_max[1] = torch.max(grad)\n",
    "        # grad.add_(min_denorm / grad)\n",
    "        grad = grad + min_denorm / grad\n",
    "        min_max[0] = torch.min(grad)\n",
    "    return time.time() - start\n",
    "\n",
    "\n",
    "def test_without_mask(N: int, shape: tuple, device: str = 'cuda'):\n",
    "    start = time.time()    \n",
    "    input = torch.round(torch.randn(*shape))\n",
    "    min_max = torch.tensor([0,0]).cuda()\n",
    "    if device == 'cuda':\n",
    "        input = input.cuda()\n",
    "        min_max = min_max.cuda()\n",
    "    for i in range(N):\n",
    "        grad = torch.abs(input)\n",
    "        min_max[0] = torch.min(grad)\n",
    "        min_max[1] = torch.max(grad)\n",
    "    return time.time() - start"
   ]
  },
  {
   "cell_type": "code",
   "execution_count": 56,
   "metadata": {},
   "outputs": [
    {
     "name": "stdout",
     "output_type": "stream",
     "text": [
      "overhead of test_refactor_mask_filter_mean for GPU:  1.734465464374379\n"
     ]
    }
   ],
   "source": [
    "shape = (10000, 10000)\n",
    "N = 10000\n",
    "time_test_mask = test_refactor_mask_filter_mean(N, shape, device='cuda')\n",
    "time_test_without_mask = test_without_mask(N, shape, device='cuda')\n",
    "print('overhead of test_refactor_mask_filter_mean for GPU: ', str(time_test_mask / time_test_without_mask))\n",
    "# overhead of test_refactor_mask_math for GPU:  2.2570415979145313"
   ]
  },
  {
   "cell_type": "code",
   "execution_count": 41,
   "metadata": {},
   "outputs": [
    {
     "name": "stdout",
     "output_type": "stream",
     "text": [
      "overhead of test_mask for CPU:  7.014615993037051\n"
     ]
    }
   ],
   "source": [
    "shape = (10000, 10000)\n",
    "N = 100\n",
    "time_test_mask = test_mask(N, shape, device='cpu')\n",
    "time_test_without_mask = test_without_mask(N, shape, device='cpu')\n",
    "print('overhead of test_mask for CPU: ', str(time_test_mask / time_test_without_mask))"
   ]
  },
  {
   "cell_type": "code",
   "execution_count": 46,
   "metadata": {},
   "outputs": [
    {
     "name": "stdout",
     "output_type": "stream",
     "text": [
      "overhead of test_mask for GPU:  4.447599304294528\n"
     ]
    }
   ],
   "source": [
    "shape = (10000, 10000)\n",
    "N = 100\n",
    "time_test_mask = test_mask(N, shape, device='cuda')\n",
    "time_test_without_mask = test_without_mask(N, shape, device='cuda')\n",
    "print('overhead of test_mask for GPU: ', str(time_test_mask / time_test_without_mask))"
   ]
  },
  {
   "cell_type": "code",
   "execution_count": 47,
   "metadata": {},
   "outputs": [
    {
     "name": "stdout",
     "output_type": "stream",
     "text": [
      "overhead of test_refactor_mask_filter for CPU:  2.246481991501602\n"
     ]
    }
   ],
   "source": [
    "shape = (10000, 10000)\n",
    "N = 100\n",
    "time_test_mask = test_refactor_mask_filter(N, shape, device='cpu')\n",
    "time_test_without_mask = test_without_mask(N, shape, device='cpu')\n",
    "print('overhead of test_refactor_mask_filter for CPU: ', str(time_test_mask / time_test_without_mask))"
   ]
  },
  {
   "cell_type": "code",
   "execution_count": 52,
   "metadata": {},
   "outputs": [
    {
     "name": "stdout",
     "output_type": "stream",
     "text": [
      "overhead of test_refactor_mask_filter for GPU:  1.9041356556827576\n"
     ]
    }
   ],
   "source": [
    "shape = (10000, 10000)\n",
    "N = 10000\n",
    "time_test_mask = test_refactor_mask_filter(N, shape, device='cuda')\n",
    "time_test_without_mask = test_without_mask(N, shape, device='cuda')\n",
    "print('overhead of test_refactor_mask_filter for GPU: ', str(time_test_mask / time_test_without_mask))"
   ]
  },
  {
   "cell_type": "code",
   "execution_count": 51,
   "metadata": {},
   "outputs": [
    {
     "name": "stdout",
     "output_type": "stream",
     "text": [
      "overhead of test_refactor_mask_math for CPU:  3.1817730339385304\n"
     ]
    }
   ],
   "source": [
    "shape = (10000, 10000)\n",
    "N = 100\n",
    "time_test_mask = test_refactor_mask_math(N, shape, device='cpu')\n",
    "time_test_without_mask = test_without_mask(N, shape, device='cpu')\n",
    "print('overhead of test_refactor_mask_math for CPU: ', str(time_test_mask / time_test_without_mask))"
   ]
  },
  {
   "cell_type": "code",
   "execution_count": 53,
   "metadata": {},
   "outputs": [
    {
     "name": "stdout",
     "output_type": "stream",
     "text": [
      "overhead of test_refactor_mask_math for GPU:  2.2570415979145313\n"
     ]
    }
   ],
   "source": [
    "shape = (10000, 10000)\n",
    "N = 10000\n",
    "time_test_mask = test_refactor_mask_math(N, shape, device='cuda')\n",
    "time_test_without_mask = test_without_mask(N, shape, device='cuda')\n",
    "print('overhead of test_refactor_mask_math for GPU: ', str(time_test_mask / time_test_without_mask))"
   ]
  }
 ],
 "metadata": {
  "kernelspec": {
   "display_name": "python",
   "language": "python",
   "name": "python3"
  },
  "language_info": {
   "codemirror_mode": {
    "name": "ipython",
    "version": 3
   },
   "file_extension": ".py",
   "mimetype": "text/x-python",
   "name": "python",
   "nbconvert_exporter": "python",
   "pygments_lexer": "ipython3",
   "version": "3.12.3"
  }
 },
 "nbformat": 4,
 "nbformat_minor": 2
}
